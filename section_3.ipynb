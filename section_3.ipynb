{
 "cells": [
  {
   "cell_type": "code",
   "execution_count": null,
   "metadata": {},
   "outputs": [],
   "source": [
    "#We are going to play a simple game. We start with 0 points. We will flip a coin. If it comes up heads, we get a point. If comes up tails, we double our current score.\n",
    "\n",
    "#For example, if we got HTH, we would have ((0+1)∗2+1)=3 points, but if we got THT, we would have ((0)∗2+1)∗2=2 points"
   ]
  },
  {
   "cell_type": "code",
   "execution_count": null,
   "metadata": {},
   "outputs": [],
   "source": [
    "import random\n",
    "import numpy as np"
   ]
  },
  {
   "cell_type": "code",
   "execution_count": null,
   "metadata": {},
   "outputs": [],
   "source": [
    "#initialize score\n",
    "# global score\n",
    "score  = 0"
   ]
  },
  {
   "cell_type": "code",
   "execution_count": 4,
   "metadata": {},
   "outputs": [],
   "source": [
    "def coin_toss (number_of_flips):\n",
    "    global score\n",
    "    for i in np.arange(number_of_flips):\n",
    "        flip = random.randint(0, 1)  #0 is heads and 1 is tails\n",
    "        if (flip == 0):\n",
    "#             print(\"Heads\")\n",
    "            score +=1\n",
    "        else:\n",
    "#             print(\"Tails\")\n",
    "            score *=2\n",
    "    return score\n"
   ]
  },
  {
   "cell_type": "code",
   "execution_count": 23,
   "metadata": {},
   "outputs": [
    {
     "data": {
      "text/plain": [
       "2"
      ]
     },
     "execution_count": 23,
     "metadata": {},
     "output_type": "execute_result"
    }
   ],
   "source": [
    "random.randint(0, 2)"
   ]
  },
  {
   "cell_type": "code",
   "execution_count": 25,
   "metadata": {},
   "outputs": [],
   "source": [
    "def baised_coin_toss (number_of_flips):\n",
    "    global score\n",
    "    for i in np.arange(number_of_flips):\n",
    "        flip = random.randint(0, 2)  #0 is heads and 1 is tails\n",
    "        if (flip <2):\n",
    "#             print(\"Heads\")\n",
    "            score +=1\n",
    "        else:\n",
    "#             print(\"Tails\")\n",
    "            score *=2\n",
    "    return score"
   ]
  },
  {
   "cell_type": "code",
   "execution_count": 16,
   "metadata": {},
   "outputs": [],
   "source": [
    "#fair coin\n",
    "score_l = []\n",
    "for i in np.arange(1000000):\n",
    "    score = 0\n",
    "    coin_toss(15)\n",
    "#     score \n",
    "    score_l.append(score)\n",
    "print (np.mean(np.array(score_l)))\n",
    "print ('std {}'.format(np.std(np.array(score_l))))\n",
    "\n"
   ]
  },
  {
   "cell_type": "code",
   "execution_count": 28,
   "metadata": {},
   "outputs": [
    {
     "name": "stdout",
     "output_type": "stream",
     "text": [
      "14.0\n",
      "std 0.0\n"
     ]
    }
   ],
   "source": [
    "#biased coin\n",
    "score_l = []\n",
    "for i in np.arange(1):\n",
    "    score = 0\n",
    "    baised_coin_toss(10)\n",
    "#     score \n",
    "    score_l.append(score)\n",
    "print (np.mean(np.array(score_l)))\n",
    "print ('std {}'.format(np.std(np.array(score_l))))"
   ]
  },
  {
   "cell_type": "code",
   "execution_count": 126,
   "metadata": {},
   "outputs": [],
   "source": [
    "def find_expectation(number_of_flips):\n",
    "    init_outcome = [0]\n",
    "    for i in np.arange(number_of_flips):\n",
    "#          new_outcome = []\n",
    "        if i ==0:\n",
    "            continue\n",
    "        else:\n",
    "#             new_outcome = []\n",
    "            for j in range(len(init_outcome)):\n",
    "#                 new_outcome.append(init_outcome[j]+1)\n",
    "#                 new_outcome.append(init_outcome[j]*2)\n",
    "                init_outcome.append(init_outcome[j]+1)\n",
    "                init_outcome.append(init_outcome[j]*2)\n",
    "\n",
    "#     expectation = np.sum(np.array(new_outcome))/len(new_outcome)\n",
    "    expectation = np.sum(np.array(init_outcome))/len(init_outcome)\n",
    "    return expectation, init_outcome"
   ]
  },
  {
   "cell_type": "code",
   "execution_count": 127,
   "metadata": {},
   "outputs": [],
   "source": [
    "expectation, init_outcome = find_expectation(1)"
   ]
  },
  {
   "cell_type": "code",
   "execution_count": 128,
   "metadata": {},
   "outputs": [
    {
     "name": "stdout",
     "output_type": "stream",
     "text": [
      "[0]\n"
     ]
    }
   ],
   "source": [
    "print (init_outcome)"
   ]
  },
  {
   "cell_type": "code",
   "execution_count": 110,
   "metadata": {},
   "outputs": [
    {
     "name": "stdout",
     "output_type": "stream",
     "text": [
      "1.25\n"
     ]
    }
   ],
   "source": [
    "print (expectation)"
   ]
  },
  {
   "cell_type": "code",
   "execution_count": null,
   "metadata": {},
   "outputs": [],
   "source": []
  }
 ],
 "metadata": {
  "kernelspec": {
   "display_name": "Python 3",
   "language": "python",
   "name": "python3"
  },
  "language_info": {
   "codemirror_mode": {
    "name": "ipython",
    "version": 3
   },
   "file_extension": ".py",
   "mimetype": "text/x-python",
   "name": "python",
   "nbconvert_exporter": "python",
   "pygments_lexer": "ipython3",
   "version": "3.7.7"
  }
 },
 "nbformat": 4,
 "nbformat_minor": 4
}
