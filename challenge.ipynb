{
 "cells": [
  {
   "cell_type": "markdown",
   "metadata": {},
   "source": [
    "<h1><center>Best job application season for the 5 most in demand industries </center></h1>"
   ]
  },
  {
   "cell_type": "code",
   "execution_count": 37,
   "metadata": {},
   "outputs": [],
   "source": [
    "import awscli\n",
    "import pandas as pd\n",
    "import seaborn as sns\n",
    "import numpy as np"
   ]
  },
  {
   "cell_type": "code",
   "execution_count": 38,
   "metadata": {},
   "outputs": [
    {
     "name": "stderr",
     "output_type": "stream",
     "text": [
      "/Users/sayebms1/Library/Python/3.7/lib/python/site-packages/IPython/core/interactiveshell.py:3063: DtypeWarning: Columns (9,10) have mixed types.Specify dtype option on import or set low_memory=False.\n",
      "  interactivity=interactivity, compiler=compiler, result=result)\n"
     ]
    },
    {
     "data": {
      "text/plain": [
       "(2426196, 14)"
      ]
     },
     "execution_count": 38,
     "metadata": {},
     "output_type": "execute_result"
    }
   ],
   "source": [
    "df = pd.read_csv('temp_datalab_records_linkedin_company.csv')\n",
    "df.shape\n",
    "#shape "
   ]
  },
  {
   "cell_type": "markdown",
   "metadata": {},
   "source": [
    "### Lets look at the table"
   ]
  },
  {
   "cell_type": "code",
   "execution_count": 39,
   "metadata": {},
   "outputs": [],
   "source": [
    "# df.tail(10)"
   ]
  },
  {
   "cell_type": "markdown",
   "metadata": {},
   "source": [
    "### we see that there are 3 NaN columns so let's drop them"
   ]
  },
  {
   "cell_type": "code",
   "execution_count": 40,
   "metadata": {},
   "outputs": [
    {
     "name": "stdout",
     "output_type": "stream",
     "text": [
      "(2426196, 14)\n"
     ]
    }
   ],
   "source": [
    "print (df.shape)\n",
    "df.drop(columns=['description', 'entity_id', 'cusip', 'isin'], inplace=True)"
   ]
  },
  {
   "cell_type": "markdown",
   "metadata": {},
   "source": [
    "### There are 3 columns that indicate the dates, lets put them all in the same format "
   ]
  },
  {
   "cell_type": "code",
   "execution_count": 41,
   "metadata": {},
   "outputs": [],
   "source": [
    "df['date_added']=pd.to_datetime(df['date_added']).dt.date\n",
    "df['date_updated']=pd.to_datetime(df['date_updated']).dt.date\n",
    "df['as_of_date']=pd.to_datetime(df['as_of_date']).dt.date"
   ]
  },
  {
   "cell_type": "markdown",
   "metadata": {},
   "source": [
    "### Check if all the columns date_updated and date_added are the same"
   ]
  },
  {
   "cell_type": "code",
   "execution_count": 42,
   "metadata": {},
   "outputs": [
    {
     "name": "stdout",
     "output_type": "stream",
     "text": [
      "(10,)\n"
     ]
    }
   ],
   "source": [
    "print (np.where((df['date_added']==df['date_updated'])==False)[0].shape)"
   ]
  },
  {
   "cell_type": "markdown",
   "metadata": {},
   "source": [
    "### let's check some of these values"
   ]
  },
  {
   "cell_type": "code",
   "execution_count": 43,
   "metadata": {},
   "outputs": [
    {
     "data": {
      "text/plain": [
       "dataset_id                                                 58972\n",
       "as_of_date                                            2018-07-16\n",
       "company_name                  Domino's Pizza Enterprises Limited\n",
       "followers_count                                            10437\n",
       "employees_on_platform                                       2718\n",
       "link                     https://www.linkedin.com/company/780297\n",
       "industry                                                  Retail\n",
       "date_added                                            2018-07-16\n",
       "date_updated                                          2018-07-17\n",
       "website                                http://www.dominos.com.au\n",
       "Name: 2421904, dtype: object"
      ]
     },
     "execution_count": 43,
     "metadata": {},
     "output_type": "execute_result"
    }
   ],
   "source": [
    "df.loc[2421904]"
   ]
  },
  {
   "cell_type": "markdown",
   "metadata": {},
   "source": [
    "#### There are only 10 job postings that have an updated date that is different from the date added. Also, the updated date only differs from the date added by one day only. The updated date doesn't really give us any substantial information, therefore we can drop it from the table. "
   ]
  },
  {
   "cell_type": "code",
   "execution_count": 44,
   "metadata": {},
   "outputs": [],
   "source": [
    "df.drop(columns=['date_updated'], inplace=True)"
   ]
  },
  {
   "cell_type": "markdown",
   "metadata": {},
   "source": [
    "#### But before doing that let's also check if tehre is a difference between date_added and date_updated. In first glace they also look the same"
   ]
  },
  {
   "cell_type": "code",
   "execution_count": 45,
   "metadata": {},
   "outputs": [
    {
     "name": "stdout",
     "output_type": "stream",
     "text": [
      "[1713590 1713591 1713601 ... 1997511 1997534 1997544]\n"
     ]
    }
   ],
   "source": [
    "print (np.where((pd.to_datetime(df['date_added']).dt.year==pd.to_datetime(df['as_of_date']).dt.year)==False)[0])"
   ]
  },
  {
   "cell_type": "code",
   "execution_count": 46,
   "metadata": {},
   "outputs": [
    {
     "data": {
      "text/plain": [
       "dataset_id                                                2139065\n",
       "as_of_date                                             2018-01-13\n",
       "company_name                                Masco Construction Co\n",
       "followers_count                                                12\n",
       "employees_on_platform                                           8\n",
       "link                     https://www.linkedin.com/company/4444981\n",
       "industry                                             Construction\n",
       "date_added                                             2017-01-13\n",
       "website                                                       NaN\n",
       "Name: 1713590, dtype: object"
      ]
     },
     "execution_count": 46,
     "metadata": {},
     "output_type": "execute_result"
    }
   ],
   "source": [
    "df.loc[1713590]"
   ]
  },
  {
   "cell_type": "code",
   "execution_count": 47,
   "metadata": {},
   "outputs": [],
   "source": [
    "df.reset_index(inplace=True)"
   ]
  },
  {
   "cell_type": "code",
   "execution_count": 48,
   "metadata": {},
   "outputs": [],
   "source": [
    "df_grouped = df.groupby(['industry']).sum()"
   ]
  },
  {
   "cell_type": "code",
   "execution_count": 49,
   "metadata": {},
   "outputs": [
    {
     "data": {
      "text/plain": [
       "Index(['index', 'company_name', 'followers_count', 'employees_on_platform',\n",
       "       'industry', 'date_added'],\n",
       "      dtype='object')"
      ]
     },
     "execution_count": 49,
     "metadata": {},
     "output_type": "execute_result"
    }
   ],
   "source": [
    "df.columns\n",
    "df.drop(columns=['dataset_id', 'as_of_date', 'website', 'link', 'index'], inplace=True)\n",
    "df.reset_index(inplace=True)\n",
    "df.columns"
   ]
  },
  {
   "cell_type": "code",
   "execution_count": 56,
   "metadata": {},
   "outputs": [
    {
     "data": {
      "text/html": [
       "<div>\n",
       "<style scoped>\n",
       "    .dataframe tbody tr th:only-of-type {\n",
       "        vertical-align: middle;\n",
       "    }\n",
       "\n",
       "    .dataframe tbody tr th {\n",
       "        vertical-align: top;\n",
       "    }\n",
       "\n",
       "    .dataframe thead th {\n",
       "        text-align: right;\n",
       "    }\n",
       "</style>\n",
       "<table border=\"1\" class=\"dataframe\">\n",
       "  <thead>\n",
       "    <tr style=\"text-align: right;\">\n",
       "      <th></th>\n",
       "      <th>index</th>\n",
       "      <th>company_name</th>\n",
       "      <th>followers_count</th>\n",
       "      <th>employees_on_platform</th>\n",
       "      <th>industry</th>\n",
       "      <th>date_added</th>\n",
       "    </tr>\n",
       "  </thead>\n",
       "  <tbody>\n",
       "    <tr>\n",
       "      <th>0</th>\n",
       "      <td>0</td>\n",
       "      <td>Goldman Sachs</td>\n",
       "      <td>552254</td>\n",
       "      <td>38124</td>\n",
       "      <td>Investment Banking</td>\n",
       "      <td>2015-09-14</td>\n",
       "    </tr>\n",
       "    <tr>\n",
       "      <th>1</th>\n",
       "      <td>1</td>\n",
       "      <td>Goldman Sachs</td>\n",
       "      <td>552862</td>\n",
       "      <td>38141</td>\n",
       "      <td>Investment Banking</td>\n",
       "      <td>2015-09-15</td>\n",
       "    </tr>\n",
       "    <tr>\n",
       "      <th>2</th>\n",
       "      <td>2</td>\n",
       "      <td>United Technologies</td>\n",
       "      <td>59157</td>\n",
       "      <td>14982</td>\n",
       "      <td>Aviation &amp; Aerospace</td>\n",
       "      <td>2015-09-16</td>\n",
       "    </tr>\n",
       "    <tr>\n",
       "      <th>3</th>\n",
       "      <td>3</td>\n",
       "      <td>Novo Nordisk</td>\n",
       "      <td>336175</td>\n",
       "      <td>26448</td>\n",
       "      <td>Pharmaceuticals</td>\n",
       "      <td>2015-09-16</td>\n",
       "    </tr>\n",
       "    <tr>\n",
       "      <th>4</th>\n",
       "      <td>4</td>\n",
       "      <td>Lowe's Companies, Inc.</td>\n",
       "      <td>134255</td>\n",
       "      <td>62574</td>\n",
       "      <td>Retail</td>\n",
       "      <td>2015-09-16</td>\n",
       "    </tr>\n",
       "    <tr>\n",
       "      <th>5</th>\n",
       "      <td>5</td>\n",
       "      <td>UnitedHealth Group</td>\n",
       "      <td>221288</td>\n",
       "      <td>77108</td>\n",
       "      <td>Hospital &amp; Health Care</td>\n",
       "      <td>2015-09-16</td>\n",
       "    </tr>\n",
       "    <tr>\n",
       "      <th>6</th>\n",
       "      <td>6</td>\n",
       "      <td>McKesson</td>\n",
       "      <td>128090</td>\n",
       "      <td>17520</td>\n",
       "      <td>Hospital &amp; Health Care</td>\n",
       "      <td>2015-09-16</td>\n",
       "    </tr>\n",
       "    <tr>\n",
       "      <th>7</th>\n",
       "      <td>7</td>\n",
       "      <td>BBVA</td>\n",
       "      <td>109420</td>\n",
       "      <td>40933</td>\n",
       "      <td>Banking</td>\n",
       "      <td>2015-09-16</td>\n",
       "    </tr>\n",
       "    <tr>\n",
       "      <th>8</th>\n",
       "      <td>8</td>\n",
       "      <td>IBM</td>\n",
       "      <td>2542182</td>\n",
       "      <td>414139</td>\n",
       "      <td>Information Technology and Services</td>\n",
       "      <td>2015-09-16</td>\n",
       "    </tr>\n",
       "    <tr>\n",
       "      <th>9</th>\n",
       "      <td>9</td>\n",
       "      <td>MasterCard</td>\n",
       "      <td>147619</td>\n",
       "      <td>9658</td>\n",
       "      <td>Information Technology and Services</td>\n",
       "      <td>2015-09-16</td>\n",
       "    </tr>\n",
       "  </tbody>\n",
       "</table>\n",
       "</div>"
      ],
      "text/plain": [
       "   index            company_name  followers_count  employees_on_platform  \\\n",
       "0      0           Goldman Sachs           552254                  38124   \n",
       "1      1           Goldman Sachs           552862                  38141   \n",
       "2      2     United Technologies            59157                  14982   \n",
       "3      3            Novo Nordisk           336175                  26448   \n",
       "4      4  Lowe's Companies, Inc.           134255                  62574   \n",
       "5      5      UnitedHealth Group           221288                  77108   \n",
       "6      6                McKesson           128090                  17520   \n",
       "7      7                    BBVA           109420                  40933   \n",
       "8      8                     IBM          2542182                 414139   \n",
       "9      9              MasterCard           147619                   9658   \n",
       "\n",
       "                              industry  date_added  \n",
       "0                   Investment Banking  2015-09-14  \n",
       "1                   Investment Banking  2015-09-15  \n",
       "2                 Aviation & Aerospace  2015-09-16  \n",
       "3                      Pharmaceuticals  2015-09-16  \n",
       "4                               Retail  2015-09-16  \n",
       "5               Hospital & Health Care  2015-09-16  \n",
       "6               Hospital & Health Care  2015-09-16  \n",
       "7                              Banking  2015-09-16  \n",
       "8  Information Technology and Services  2015-09-16  \n",
       "9  Information Technology and Services  2015-09-16  "
      ]
     },
     "execution_count": 56,
     "metadata": {},
     "output_type": "execute_result"
    }
   ],
   "source": [
    "df.head(10)"
   ]
  },
  {
   "cell_type": "code",
   "execution_count": 57,
   "metadata": {},
   "outputs": [],
   "source": [
    "df['year'] = pd.to_datetime(df['date_added']).dt.year\n",
    "df['month'] = pd.to_datetime(df['date_added']).dt.month"
   ]
  },
  {
   "cell_type": "code",
   "execution_count": 59,
   "metadata": {},
   "outputs": [
    {
     "data": {
      "text/html": [
       "<div>\n",
       "<style scoped>\n",
       "    .dataframe tbody tr th:only-of-type {\n",
       "        vertical-align: middle;\n",
       "    }\n",
       "\n",
       "    .dataframe tbody tr th {\n",
       "        vertical-align: top;\n",
       "    }\n",
       "\n",
       "    .dataframe thead th {\n",
       "        text-align: right;\n",
       "    }\n",
       "</style>\n",
       "<table border=\"1\" class=\"dataframe\">\n",
       "  <thead>\n",
       "    <tr style=\"text-align: right;\">\n",
       "      <th></th>\n",
       "      <th>company_name</th>\n",
       "      <th>followers_count</th>\n",
       "      <th>employees_on_platform</th>\n",
       "      <th>industry</th>\n",
       "      <th>year</th>\n",
       "      <th>month</th>\n",
       "    </tr>\n",
       "  </thead>\n",
       "  <tbody>\n",
       "    <tr>\n",
       "      <th>2426096</th>\n",
       "      <td>Videojet Technologies</td>\n",
       "      <td>16465</td>\n",
       "      <td>2344</td>\n",
       "      <td>Printing</td>\n",
       "      <td>2018</td>\n",
       "      <td>7</td>\n",
       "    </tr>\n",
       "    <tr>\n",
       "      <th>2426097</th>\n",
       "      <td>Federated National Insurance Company</td>\n",
       "      <td>995</td>\n",
       "      <td>124</td>\n",
       "      <td>Insurance</td>\n",
       "      <td>2018</td>\n",
       "      <td>7</td>\n",
       "    </tr>\n",
       "    <tr>\n",
       "      <th>2426098</th>\n",
       "      <td>Central Garden &amp; Pet</td>\n",
       "      <td>8762</td>\n",
       "      <td>1505</td>\n",
       "      <td>Consumer Goods</td>\n",
       "      <td>2018</td>\n",
       "      <td>7</td>\n",
       "    </tr>\n",
       "    <tr>\n",
       "      <th>2426099</th>\n",
       "      <td>BASi</td>\n",
       "      <td>2172</td>\n",
       "      <td>235</td>\n",
       "      <td>Pharmaceuticals</td>\n",
       "      <td>2018</td>\n",
       "      <td>7</td>\n",
       "    </tr>\n",
       "    <tr>\n",
       "      <th>2426100</th>\n",
       "      <td>Pilgrim's</td>\n",
       "      <td>15793</td>\n",
       "      <td>3740</td>\n",
       "      <td>Food Production</td>\n",
       "      <td>2018</td>\n",
       "      <td>7</td>\n",
       "    </tr>\n",
       "    <tr>\n",
       "      <th>...</th>\n",
       "      <td>...</td>\n",
       "      <td>...</td>\n",
       "      <td>...</td>\n",
       "      <td>...</td>\n",
       "      <td>...</td>\n",
       "      <td>...</td>\n",
       "    </tr>\n",
       "    <tr>\n",
       "      <th>2426191</th>\n",
       "      <td>Diversified Restaurant Holdings, Inc (Nasdaq: ...</td>\n",
       "      <td>488</td>\n",
       "      <td>89</td>\n",
       "      <td>Restaurants</td>\n",
       "      <td>2018</td>\n",
       "      <td>7</td>\n",
       "    </tr>\n",
       "    <tr>\n",
       "      <th>2426192</th>\n",
       "      <td>First Financial Northwest Bank</td>\n",
       "      <td>785</td>\n",
       "      <td>118</td>\n",
       "      <td>Banking</td>\n",
       "      <td>2018</td>\n",
       "      <td>7</td>\n",
       "    </tr>\n",
       "    <tr>\n",
       "      <th>2426193</th>\n",
       "      <td>DMC Global Inc.</td>\n",
       "      <td>1521</td>\n",
       "      <td>184</td>\n",
       "      <td>Oil &amp; Energy</td>\n",
       "      <td>2018</td>\n",
       "      <td>7</td>\n",
       "    </tr>\n",
       "    <tr>\n",
       "      <th>2426194</th>\n",
       "      <td>ServiceSource</td>\n",
       "      <td>27963</td>\n",
       "      <td>2496</td>\n",
       "      <td>Information Technology and Services</td>\n",
       "      <td>2018</td>\n",
       "      <td>7</td>\n",
       "    </tr>\n",
       "    <tr>\n",
       "      <th>2426195</th>\n",
       "      <td>Attunity</td>\n",
       "      <td>4702</td>\n",
       "      <td>635</td>\n",
       "      <td>Information Technology and Services</td>\n",
       "      <td>2018</td>\n",
       "      <td>7</td>\n",
       "    </tr>\n",
       "  </tbody>\n",
       "</table>\n",
       "<p>100 rows × 6 columns</p>\n",
       "</div>"
      ],
      "text/plain": [
       "                                              company_name  followers_count  \\\n",
       "2426096                              Videojet Technologies            16465   \n",
       "2426097               Federated National Insurance Company              995   \n",
       "2426098                               Central Garden & Pet             8762   \n",
       "2426099                                               BASi             2172   \n",
       "2426100                                          Pilgrim's            15793   \n",
       "...                                                    ...              ...   \n",
       "2426191  Diversified Restaurant Holdings, Inc (Nasdaq: ...              488   \n",
       "2426192                     First Financial Northwest Bank              785   \n",
       "2426193                                    DMC Global Inc.             1521   \n",
       "2426194                                      ServiceSource            27963   \n",
       "2426195                                           Attunity             4702   \n",
       "\n",
       "         employees_on_platform                             industry  year  \\\n",
       "2426096                   2344                             Printing  2018   \n",
       "2426097                    124                            Insurance  2018   \n",
       "2426098                   1505                       Consumer Goods  2018   \n",
       "2426099                    235                      Pharmaceuticals  2018   \n",
       "2426100                   3740                      Food Production  2018   \n",
       "...                        ...                                  ...   ...   \n",
       "2426191                     89                          Restaurants  2018   \n",
       "2426192                    118                              Banking  2018   \n",
       "2426193                    184                         Oil & Energy  2018   \n",
       "2426194                   2496  Information Technology and Services  2018   \n",
       "2426195                    635  Information Technology and Services  2018   \n",
       "\n",
       "         month  \n",
       "2426096      7  \n",
       "2426097      7  \n",
       "2426098      7  \n",
       "2426099      7  \n",
       "2426100      7  \n",
       "...        ...  \n",
       "2426191      7  \n",
       "2426192      7  \n",
       "2426193      7  \n",
       "2426194      7  \n",
       "2426195      7  \n",
       "\n",
       "[100 rows x 6 columns]"
      ]
     },
     "execution_count": 59,
     "metadata": {},
     "output_type": "execute_result"
    }
   ],
   "source": [
    "#find hottest jobs \n",
    "df.drop (columns=['date_added','index'], inplace=True)\n",
    "df.tail(100)"
   ]
  },
  {
   "cell_type": "code",
   "execution_count": 62,
   "metadata": {},
   "outputs": [],
   "source": [
    "grouped_by_industry = df.groupby(['industry']).count().drop(columns=['year', 'month', 'employees_on_platform','followers_count'])\n",
    "grouped_by_industry.rename(columns = {'company_name':'Count'}, inplace = True)"
   ]
  },
  {
   "cell_type": "code",
   "execution_count": 69,
   "metadata": {},
   "outputs": [
    {
     "data": {
      "text/html": [
       "<div>\n",
       "<style scoped>\n",
       "    .dataframe tbody tr th:only-of-type {\n",
       "        vertical-align: middle;\n",
       "    }\n",
       "\n",
       "    .dataframe tbody tr th {\n",
       "        vertical-align: top;\n",
       "    }\n",
       "\n",
       "    .dataframe thead th {\n",
       "        text-align: right;\n",
       "    }\n",
       "</style>\n",
       "<table border=\"1\" class=\"dataframe\">\n",
       "  <thead>\n",
       "    <tr style=\"text-align: right;\">\n",
       "      <th></th>\n",
       "      <th>Count</th>\n",
       "    </tr>\n",
       "    <tr>\n",
       "      <th>industry</th>\n",
       "      <th></th>\n",
       "    </tr>\n",
       "  </thead>\n",
       "  <tbody>\n",
       "    <tr>\n",
       "      <th>Banking</th>\n",
       "      <td>168364</td>\n",
       "    </tr>\n",
       "    <tr>\n",
       "      <th>Biotechnology</th>\n",
       "      <td>152710</td>\n",
       "    </tr>\n",
       "    <tr>\n",
       "      <th>Financial Services</th>\n",
       "      <td>148143</td>\n",
       "    </tr>\n",
       "    <tr>\n",
       "      <th>Oil &amp; Energy</th>\n",
       "      <td>116830</td>\n",
       "    </tr>\n",
       "    <tr>\n",
       "      <th>Retail</th>\n",
       "      <td>95384</td>\n",
       "    </tr>\n",
       "  </tbody>\n",
       "</table>\n",
       "</div>"
      ],
      "text/plain": [
       "                     Count\n",
       "industry                  \n",
       "Banking             168364\n",
       "Biotechnology       152710\n",
       "Financial Services  148143\n",
       "Oil & Energy        116830\n",
       "Retail               95384"
      ]
     },
     "execution_count": 69,
     "metadata": {},
     "output_type": "execute_result"
    }
   ],
   "source": [
    "grouped_by_industry.sort_values(['Count'], ascending=False, axis=0, inplace=True )\n",
    "grouped_by_industry.head()"
   ]
  },
  {
   "cell_type": "code",
   "execution_count": 79,
   "metadata": {},
   "outputs": [
    {
     "data": {
      "text/plain": [
       "Text(0, 0.5, 'Total number of jobs in the industry')"
      ]
     },
     "execution_count": 79,
     "metadata": {},
     "output_type": "execute_result"
    },
    {
     "data": {
      "image/png": "[encoded data removed]",
      "text/plain": [
       "<Figure size 1440x576 with 1 Axes>"
      ]
     },
     "metadata": {
      "needs_background": "light"
     },
     "output_type": "display_data"
    }
   ],
   "source": [
    "\n",
    "ax=grouped_by_industry.head(10).plot(kind='bar', \n",
    "                            figsize=(20,8),\n",
    "                            color = ['#5cb85c', '#5bc0de',  '#d9534f']\n",
    "                            )\n",
    "ax.set_yscale('log')\n",
    "ax.set_ylabel('Total number of jobs in the industry')\n"
   ]
  },
  {
   "cell_type": "code",
   "execution_count": 80,
   "metadata": {},
   "outputs": [],
   "source": [
    "# df['industry'].unique()"
   ]
  }
 ],
 "metadata": {
  "kernelspec": {
   "display_name": "Python 3",
   "language": "python",
   "name": "python3"
  },
  "language_info": {
   "codemirror_mode": {
    "name": "ipython",
    "version": 3
   },
   "file_extension": ".py",
   "mimetype": "text/x-python",
   "name": "python",
   "nbconvert_exporter": "python",
   "pygments_lexer": "ipython3",
   "version": "3.7.7"
  }
 },
 "nbformat": 4,
 "nbformat_minor": 4
}
