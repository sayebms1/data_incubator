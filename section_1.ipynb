{
 "cells": [
  {
   "cell_type": "markdown",
   "metadata": {},
   "source": [
    "<h1><center>Best job application season for the 3 most in demand industries </center></h1>"
   ]
  },
  {
   "cell_type": "code",
   "execution_count": 71,
   "metadata": {},
   "outputs": [],
   "source": [
    "import awscli\n",
    "import pandas as pd\n",
    "import seaborn as sns\n",
    "import numpy as np\n",
    "import matplotlib\n",
    "import seaborn as sns\n",
    "matplotlib.rcParams['figure.dpi']=200"
   ]
  },
  {
   "cell_type": "code",
   "execution_count": 2,
   "metadata": {},
   "outputs": [
    {
     "name": "stderr",
     "output_type": "stream",
     "text": [
      "/Users/sayebms1/Library/Python/3.7/lib/python/site-packages/IPython/core/interactiveshell.py:3063: DtypeWarning: Columns (9,10) have mixed types.Specify dtype option on import or set low_memory=False.\n",
      "  interactivity=interactivity, compiler=compiler, result=result)\n"
     ]
    },
    {
     "data": {
      "text/plain": [
       "(2426196, 14)"
      ]
     },
     "execution_count": 2,
     "metadata": {},
     "output_type": "execute_result"
    }
   ],
   "source": [
    "df = pd.read_csv('temp_datalab_records_linkedin_company.csv')\n",
    "df.shape\n",
    "#shape "
   ]
  },
  {
   "cell_type": "markdown",
   "metadata": {},
   "source": [
    "### Lets look at the table"
   ]
  },
  {
   "cell_type": "code",
   "execution_count": 3,
   "metadata": {},
   "outputs": [],
   "source": [
    "# df.tail(10)"
   ]
  },
  {
   "cell_type": "markdown",
   "metadata": {},
   "source": [
    "### we see that there are 3 NaN columns so let's drop them"
   ]
  },
  {
   "cell_type": "code",
   "execution_count": 4,
   "metadata": {},
   "outputs": [
    {
     "name": "stdout",
     "output_type": "stream",
     "text": [
      "(2426196, 14)\n"
     ]
    }
   ],
   "source": [
    "print (df.shape)\n",
    "df.drop(columns=['description', 'entity_id', 'cusip', 'isin'], inplace=True)"
   ]
  },
  {
   "cell_type": "markdown",
   "metadata": {},
   "source": [
    "### There are 3 columns that indicate the dates, lets put them all in the same format "
   ]
  },
  {
   "cell_type": "code",
   "execution_count": 5,
   "metadata": {},
   "outputs": [],
   "source": [
    "df['date_added']=pd.to_datetime(df['date_added']).dt.date\n",
    "df['date_updated']=pd.to_datetime(df['date_updated']).dt.date\n",
    "df['as_of_date']=pd.to_datetime(df['as_of_date']).dt.date"
   ]
  },
  {
   "cell_type": "markdown",
   "metadata": {},
   "source": [
    "### Check if all the columns date_updated and date_added are the same"
   ]
  },
  {
   "cell_type": "code",
   "execution_count": 6,
   "metadata": {},
   "outputs": [
    {
     "name": "stdout",
     "output_type": "stream",
     "text": [
      "(10,)\n"
     ]
    }
   ],
   "source": [
    "print (np.where((df['date_added']==df['date_updated'])==False)[0].shape)"
   ]
  },
  {
   "cell_type": "markdown",
   "metadata": {},
   "source": [
    "### let's check some of these values"
   ]
  },
  {
   "cell_type": "code",
   "execution_count": 7,
   "metadata": {},
   "outputs": [
    {
     "data": {
      "text/plain": [
       "dataset_id                                                 58972\n",
       "as_of_date                                            2018-07-16\n",
       "company_name                  Domino's Pizza Enterprises Limited\n",
       "followers_count                                            10437\n",
       "employees_on_platform                                       2718\n",
       "link                     https://www.linkedin.com/company/780297\n",
       "industry                                                  Retail\n",
       "date_added                                            2018-07-16\n",
       "date_updated                                          2018-07-17\n",
       "website                                http://www.dominos.com.au\n",
       "Name: 2421904, dtype: object"
      ]
     },
     "execution_count": 7,
     "metadata": {},
     "output_type": "execute_result"
    }
   ],
   "source": [
    "df.loc[2421904]"
   ]
  },
  {
   "cell_type": "markdown",
   "metadata": {},
   "source": [
    "#### There are only 10 job postings that have an updated date that is different from the date added. Also, the updated date only differs from the date added by one day only. The updated date doesn't really give us any substantial information, therefore we can drop it from the table. "
   ]
  },
  {
   "cell_type": "code",
   "execution_count": 8,
   "metadata": {},
   "outputs": [],
   "source": [
    "df.drop(columns=['date_updated'], inplace=True)"
   ]
  },
  {
   "cell_type": "markdown",
   "metadata": {},
   "source": [
    "#### But before doing that let's also check if tehre is a difference between date_added and date_updated. In first glace they also look the same"
   ]
  },
  {
   "cell_type": "code",
   "execution_count": 9,
   "metadata": {},
   "outputs": [
    {
     "name": "stdout",
     "output_type": "stream",
     "text": [
      "[1713590 1713591 1713601 ... 1997511 1997534 1997544]\n"
     ]
    }
   ],
   "source": [
    "print (np.where((pd.to_datetime(df['date_added']).dt.year==pd.to_datetime(df['as_of_date']).dt.year)==False)[0])"
   ]
  },
  {
   "cell_type": "code",
   "execution_count": 10,
   "metadata": {},
   "outputs": [
    {
     "data": {
      "text/plain": [
       "dataset_id                                                2139065\n",
       "as_of_date                                             2018-01-13\n",
       "company_name                                Masco Construction Co\n",
       "followers_count                                                12\n",
       "employees_on_platform                                           8\n",
       "link                     https://www.linkedin.com/company/4444981\n",
       "industry                                             Construction\n",
       "date_added                                             2017-01-13\n",
       "website                                                       NaN\n",
       "Name: 1713590, dtype: object"
      ]
     },
     "execution_count": 10,
     "metadata": {},
     "output_type": "execute_result"
    }
   ],
   "source": [
    "df.loc[1713590]"
   ]
  },
  {
   "cell_type": "code",
   "execution_count": 11,
   "metadata": {},
   "outputs": [],
   "source": [
    "df.reset_index(inplace=True)"
   ]
  },
  {
   "cell_type": "code",
   "execution_count": 12,
   "metadata": {},
   "outputs": [],
   "source": [
    "df_grouped = df.groupby(['industry']).sum()"
   ]
  },
  {
   "cell_type": "code",
   "execution_count": 13,
   "metadata": {},
   "outputs": [
    {
     "data": {
      "text/plain": [
       "Index(['index', 'company_name', 'followers_count', 'employees_on_platform',\n",
       "       'industry', 'date_added'],\n",
       "      dtype='object')"
      ]
     },
     "execution_count": 13,
     "metadata": {},
     "output_type": "execute_result"
    }
   ],
   "source": [
    "df.columns\n",
    "df.drop(columns=['dataset_id', 'as_of_date', 'website', 'link', 'index'], inplace=True)\n",
    "df.reset_index(inplace=True)\n",
    "df.columns"
   ]
  },
  {
   "cell_type": "code",
   "execution_count": 14,
   "metadata": {},
   "outputs": [
    {
     "data": {
      "text/html": [
       "<div>\n",
       "<style scoped>\n",
       "    .dataframe tbody tr th:only-of-type {\n",
       "        vertical-align: middle;\n",
       "    }\n",
       "\n",
       "    .dataframe tbody tr th {\n",
       "        vertical-align: top;\n",
       "    }\n",
       "\n",
       "    .dataframe thead th {\n",
       "        text-align: right;\n",
       "    }\n",
       "</style>\n",
       "<table border=\"1\" class=\"dataframe\">\n",
       "  <thead>\n",
       "    <tr style=\"text-align: right;\">\n",
       "      <th></th>\n",
       "      <th>index</th>\n",
       "      <th>company_name</th>\n",
       "      <th>followers_count</th>\n",
       "      <th>employees_on_platform</th>\n",
       "      <th>industry</th>\n",
       "      <th>date_added</th>\n",
       "    </tr>\n",
       "  </thead>\n",
       "  <tbody>\n",
       "    <tr>\n",
       "      <th>0</th>\n",
       "      <td>0</td>\n",
       "      <td>Goldman Sachs</td>\n",
       "      <td>552254</td>\n",
       "      <td>38124</td>\n",
       "      <td>Investment Banking</td>\n",
       "      <td>2015-09-14</td>\n",
       "    </tr>\n",
       "    <tr>\n",
       "      <th>1</th>\n",
       "      <td>1</td>\n",
       "      <td>Goldman Sachs</td>\n",
       "      <td>552862</td>\n",
       "      <td>38141</td>\n",
       "      <td>Investment Banking</td>\n",
       "      <td>2015-09-15</td>\n",
       "    </tr>\n",
       "    <tr>\n",
       "      <th>2</th>\n",
       "      <td>2</td>\n",
       "      <td>United Technologies</td>\n",
       "      <td>59157</td>\n",
       "      <td>14982</td>\n",
       "      <td>Aviation &amp; Aerospace</td>\n",
       "      <td>2015-09-16</td>\n",
       "    </tr>\n",
       "    <tr>\n",
       "      <th>3</th>\n",
       "      <td>3</td>\n",
       "      <td>Novo Nordisk</td>\n",
       "      <td>336175</td>\n",
       "      <td>26448</td>\n",
       "      <td>Pharmaceuticals</td>\n",
       "      <td>2015-09-16</td>\n",
       "    </tr>\n",
       "    <tr>\n",
       "      <th>4</th>\n",
       "      <td>4</td>\n",
       "      <td>Lowe's Companies, Inc.</td>\n",
       "      <td>134255</td>\n",
       "      <td>62574</td>\n",
       "      <td>Retail</td>\n",
       "      <td>2015-09-16</td>\n",
       "    </tr>\n",
       "    <tr>\n",
       "      <th>5</th>\n",
       "      <td>5</td>\n",
       "      <td>UnitedHealth Group</td>\n",
       "      <td>221288</td>\n",
       "      <td>77108</td>\n",
       "      <td>Hospital &amp; Health Care</td>\n",
       "      <td>2015-09-16</td>\n",
       "    </tr>\n",
       "    <tr>\n",
       "      <th>6</th>\n",
       "      <td>6</td>\n",
       "      <td>McKesson</td>\n",
       "      <td>128090</td>\n",
       "      <td>17520</td>\n",
       "      <td>Hospital &amp; Health Care</td>\n",
       "      <td>2015-09-16</td>\n",
       "    </tr>\n",
       "    <tr>\n",
       "      <th>7</th>\n",
       "      <td>7</td>\n",
       "      <td>BBVA</td>\n",
       "      <td>109420</td>\n",
       "      <td>40933</td>\n",
       "      <td>Banking</td>\n",
       "      <td>2015-09-16</td>\n",
       "    </tr>\n",
       "    <tr>\n",
       "      <th>8</th>\n",
       "      <td>8</td>\n",
       "      <td>IBM</td>\n",
       "      <td>2542182</td>\n",
       "      <td>414139</td>\n",
       "      <td>Information Technology and Services</td>\n",
       "      <td>2015-09-16</td>\n",
       "    </tr>\n",
       "    <tr>\n",
       "      <th>9</th>\n",
       "      <td>9</td>\n",
       "      <td>MasterCard</td>\n",
       "      <td>147619</td>\n",
       "      <td>9658</td>\n",
       "      <td>Information Technology and Services</td>\n",
       "      <td>2015-09-16</td>\n",
       "    </tr>\n",
       "  </tbody>\n",
       "</table>\n",
       "</div>"
      ],
      "text/plain": [
       "   index            company_name  followers_count  employees_on_platform  \\\n",
       "0      0           Goldman Sachs           552254                  38124   \n",
       "1      1           Goldman Sachs           552862                  38141   \n",
       "2      2     United Technologies            59157                  14982   \n",
       "3      3            Novo Nordisk           336175                  26448   \n",
       "4      4  Lowe's Companies, Inc.           134255                  62574   \n",
       "5      5      UnitedHealth Group           221288                  77108   \n",
       "6      6                McKesson           128090                  17520   \n",
       "7      7                    BBVA           109420                  40933   \n",
       "8      8                     IBM          2542182                 414139   \n",
       "9      9              MasterCard           147619                   9658   \n",
       "\n",
       "                              industry  date_added  \n",
       "0                   Investment Banking  2015-09-14  \n",
       "1                   Investment Banking  2015-09-15  \n",
       "2                 Aviation & Aerospace  2015-09-16  \n",
       "3                      Pharmaceuticals  2015-09-16  \n",
       "4                               Retail  2015-09-16  \n",
       "5               Hospital & Health Care  2015-09-16  \n",
       "6               Hospital & Health Care  2015-09-16  \n",
       "7                              Banking  2015-09-16  \n",
       "8  Information Technology and Services  2015-09-16  \n",
       "9  Information Technology and Services  2015-09-16  "
      ]
     },
     "execution_count": 14,
     "metadata": {},
     "output_type": "execute_result"
    }
   ],
   "source": [
    "df.head(10)"
   ]
  },
  {
   "cell_type": "code",
   "execution_count": 15,
   "metadata": {},
   "outputs": [],
   "source": [
    "df['year'] = pd.to_datetime(df['date_added']).dt.year\n",
    "df['month'] = pd.to_datetime(df['date_added']).dt.month"
   ]
  },
  {
   "cell_type": "code",
   "execution_count": 16,
   "metadata": {},
   "outputs": [
    {
     "data": {
      "text/html": [
       "<div>\n",
       "<style scoped>\n",
       "    .dataframe tbody tr th:only-of-type {\n",
       "        vertical-align: middle;\n",
       "    }\n",
       "\n",
       "    .dataframe tbody tr th {\n",
       "        vertical-align: top;\n",
       "    }\n",
       "\n",
       "    .dataframe thead th {\n",
       "        text-align: right;\n",
       "    }\n",
       "</style>\n",
       "<table border=\"1\" class=\"dataframe\">\n",
       "  <thead>\n",
       "    <tr style=\"text-align: right;\">\n",
       "      <th></th>\n",
       "      <th>company_name</th>\n",
       "      <th>followers_count</th>\n",
       "      <th>employees_on_platform</th>\n",
       "      <th>industry</th>\n",
       "      <th>year</th>\n",
       "      <th>month</th>\n",
       "    </tr>\n",
       "  </thead>\n",
       "  <tbody>\n",
       "    <tr>\n",
       "      <th>2426096</th>\n",
       "      <td>Videojet Technologies</td>\n",
       "      <td>16465</td>\n",
       "      <td>2344</td>\n",
       "      <td>Printing</td>\n",
       "      <td>2018</td>\n",
       "      <td>7</td>\n",
       "    </tr>\n",
       "    <tr>\n",
       "      <th>2426097</th>\n",
       "      <td>Federated National Insurance Company</td>\n",
       "      <td>995</td>\n",
       "      <td>124</td>\n",
       "      <td>Insurance</td>\n",
       "      <td>2018</td>\n",
       "      <td>7</td>\n",
       "    </tr>\n",
       "    <tr>\n",
       "      <th>2426098</th>\n",
       "      <td>Central Garden &amp; Pet</td>\n",
       "      <td>8762</td>\n",
       "      <td>1505</td>\n",
       "      <td>Consumer Goods</td>\n",
       "      <td>2018</td>\n",
       "      <td>7</td>\n",
       "    </tr>\n",
       "    <tr>\n",
       "      <th>2426099</th>\n",
       "      <td>BASi</td>\n",
       "      <td>2172</td>\n",
       "      <td>235</td>\n",
       "      <td>Pharmaceuticals</td>\n",
       "      <td>2018</td>\n",
       "      <td>7</td>\n",
       "    </tr>\n",
       "    <tr>\n",
       "      <th>2426100</th>\n",
       "      <td>Pilgrim's</td>\n",
       "      <td>15793</td>\n",
       "      <td>3740</td>\n",
       "      <td>Food Production</td>\n",
       "      <td>2018</td>\n",
       "      <td>7</td>\n",
       "    </tr>\n",
       "    <tr>\n",
       "      <th>...</th>\n",
       "      <td>...</td>\n",
       "      <td>...</td>\n",
       "      <td>...</td>\n",
       "      <td>...</td>\n",
       "      <td>...</td>\n",
       "      <td>...</td>\n",
       "    </tr>\n",
       "    <tr>\n",
       "      <th>2426191</th>\n",
       "      <td>Diversified Restaurant Holdings, Inc (Nasdaq: ...</td>\n",
       "      <td>488</td>\n",
       "      <td>89</td>\n",
       "      <td>Restaurants</td>\n",
       "      <td>2018</td>\n",
       "      <td>7</td>\n",
       "    </tr>\n",
       "    <tr>\n",
       "      <th>2426192</th>\n",
       "      <td>First Financial Northwest Bank</td>\n",
       "      <td>785</td>\n",
       "      <td>118</td>\n",
       "      <td>Banking</td>\n",
       "      <td>2018</td>\n",
       "      <td>7</td>\n",
       "    </tr>\n",
       "    <tr>\n",
       "      <th>2426193</th>\n",
       "      <td>DMC Global Inc.</td>\n",
       "      <td>1521</td>\n",
       "      <td>184</td>\n",
       "      <td>Oil &amp; Energy</td>\n",
       "      <td>2018</td>\n",
       "      <td>7</td>\n",
       "    </tr>\n",
       "    <tr>\n",
       "      <th>2426194</th>\n",
       "      <td>ServiceSource</td>\n",
       "      <td>27963</td>\n",
       "      <td>2496</td>\n",
       "      <td>Information Technology and Services</td>\n",
       "      <td>2018</td>\n",
       "      <td>7</td>\n",
       "    </tr>\n",
       "    <tr>\n",
       "      <th>2426195</th>\n",
       "      <td>Attunity</td>\n",
       "      <td>4702</td>\n",
       "      <td>635</td>\n",
       "      <td>Information Technology and Services</td>\n",
       "      <td>2018</td>\n",
       "      <td>7</td>\n",
       "    </tr>\n",
       "  </tbody>\n",
       "</table>\n",
       "<p>100 rows × 6 columns</p>\n",
       "</div>"
      ],
      "text/plain": [
       "                                              company_name  followers_count  \\\n",
       "2426096                              Videojet Technologies            16465   \n",
       "2426097               Federated National Insurance Company              995   \n",
       "2426098                               Central Garden & Pet             8762   \n",
       "2426099                                               BASi             2172   \n",
       "2426100                                          Pilgrim's            15793   \n",
       "...                                                    ...              ...   \n",
       "2426191  Diversified Restaurant Holdings, Inc (Nasdaq: ...              488   \n",
       "2426192                     First Financial Northwest Bank              785   \n",
       "2426193                                    DMC Global Inc.             1521   \n",
       "2426194                                      ServiceSource            27963   \n",
       "2426195                                           Attunity             4702   \n",
       "\n",
       "         employees_on_platform                             industry  year  \\\n",
       "2426096                   2344                             Printing  2018   \n",
       "2426097                    124                            Insurance  2018   \n",
       "2426098                   1505                       Consumer Goods  2018   \n",
       "2426099                    235                      Pharmaceuticals  2018   \n",
       "2426100                   3740                      Food Production  2018   \n",
       "...                        ...                                  ...   ...   \n",
       "2426191                     89                          Restaurants  2018   \n",
       "2426192                    118                              Banking  2018   \n",
       "2426193                    184                         Oil & Energy  2018   \n",
       "2426194                   2496  Information Technology and Services  2018   \n",
       "2426195                    635  Information Technology and Services  2018   \n",
       "\n",
       "         month  \n",
       "2426096      7  \n",
       "2426097      7  \n",
       "2426098      7  \n",
       "2426099      7  \n",
       "2426100      7  \n",
       "...        ...  \n",
       "2426191      7  \n",
       "2426192      7  \n",
       "2426193      7  \n",
       "2426194      7  \n",
       "2426195      7  \n",
       "\n",
       "[100 rows x 6 columns]"
      ]
     },
     "execution_count": 16,
     "metadata": {},
     "output_type": "execute_result"
    }
   ],
   "source": [
    "#find hottest jobs \n",
    "df.drop (columns=['date_added','index'], inplace=True)\n",
    "df.tail(100)"
   ]
  },
  {
   "cell_type": "code",
   "execution_count": 17,
   "metadata": {},
   "outputs": [],
   "source": [
    "grouped_by_industry = df.groupby(['industry']).count().drop(columns=['year', 'month', 'employees_on_platform','followers_count'])\n",
    "grouped_by_industry.rename(columns = {'company_name':'Count'}, inplace = True)"
   ]
  },
  {
   "cell_type": "code",
   "execution_count": 18,
   "metadata": {},
   "outputs": [
    {
     "data": {
      "text/html": [
       "<div>\n",
       "<style scoped>\n",
       "    .dataframe tbody tr th:only-of-type {\n",
       "        vertical-align: middle;\n",
       "    }\n",
       "\n",
       "    .dataframe tbody tr th {\n",
       "        vertical-align: top;\n",
       "    }\n",
       "\n",
       "    .dataframe thead th {\n",
       "        text-align: right;\n",
       "    }\n",
       "</style>\n",
       "<table border=\"1\" class=\"dataframe\">\n",
       "  <thead>\n",
       "    <tr style=\"text-align: right;\">\n",
       "      <th></th>\n",
       "      <th>Count</th>\n",
       "    </tr>\n",
       "    <tr>\n",
       "      <th>industry</th>\n",
       "      <th></th>\n",
       "    </tr>\n",
       "  </thead>\n",
       "  <tbody>\n",
       "    <tr>\n",
       "      <th>Banking</th>\n",
       "      <td>168364</td>\n",
       "    </tr>\n",
       "    <tr>\n",
       "      <th>Biotechnology</th>\n",
       "      <td>152710</td>\n",
       "    </tr>\n",
       "    <tr>\n",
       "      <th>Financial Services</th>\n",
       "      <td>148143</td>\n",
       "    </tr>\n",
       "    <tr>\n",
       "      <th>Oil &amp; Energy</th>\n",
       "      <td>116830</td>\n",
       "    </tr>\n",
       "    <tr>\n",
       "      <th>Retail</th>\n",
       "      <td>95384</td>\n",
       "    </tr>\n",
       "  </tbody>\n",
       "</table>\n",
       "</div>"
      ],
      "text/plain": [
       "                     Count\n",
       "industry                  \n",
       "Banking             168364\n",
       "Biotechnology       152710\n",
       "Financial Services  148143\n",
       "Oil & Energy        116830\n",
       "Retail               95384"
      ]
     },
     "execution_count": 18,
     "metadata": {},
     "output_type": "execute_result"
    }
   ],
   "source": [
    "grouped_by_industry.sort_values(['Count'], ascending=False, axis=0, inplace=True )\n",
    "grouped_by_industry.head()"
   ]
  },
  {
   "cell_type": "code",
   "execution_count": 33,
   "metadata": {},
   "outputs": [
    {
     "data": {
      "image/png": "[encoded data removed]",
      "text/plain": [
       "<Figure size 2000x800 with 1 Axes>"
      ]
     },
     "metadata": {
      "needs_background": "light"
     },
     "output_type": "display_data"
    }
   ],
   "source": [
    "\n",
    "ax=grouped_by_industry.head(10).plot(kind='bar', \n",
    "                            figsize=(10,4),\n",
    "#                             color = ['#5cb85c', '#5bc0de',  '#d9534f']\n",
    "                            )\n",
    "ax.set_yscale('log')\n",
    "ax.set_ylabel('Total number of jobs in the industry')\n",
    "ax.set_xlabel('')\n",
    "for label in ax.xaxis.get_ticklabels():\n",
    "    label.set_rotation(45)"
   ]
  },
  {
   "cell_type": "markdown",
   "metadata": {},
   "source": [
    "### From this plot we see that the top 3 industries with the most number of job opennings are Banking, Biotechnology, and Financial Services "
   ]
  },
  {
   "cell_type": "code",
   "execution_count": 81,
   "metadata": {},
   "outputs": [
    {
     "data": {
      "text/html": [
       "<div>\n",
       "<style scoped>\n",
       "    .dataframe tbody tr th:only-of-type {\n",
       "        vertical-align: middle;\n",
       "    }\n",
       "\n",
       "    .dataframe tbody tr th {\n",
       "        vertical-align: top;\n",
       "    }\n",
       "\n",
       "    .dataframe thead th {\n",
       "        text-align: right;\n",
       "    }\n",
       "</style>\n",
       "<table border=\"1\" class=\"dataframe\">\n",
       "  <thead>\n",
       "    <tr style=\"text-align: right;\">\n",
       "      <th></th>\n",
       "      <th>company_name</th>\n",
       "      <th>followers_count</th>\n",
       "      <th>employees_on_platform</th>\n",
       "      <th>industry</th>\n",
       "      <th>year</th>\n",
       "      <th>month</th>\n",
       "    </tr>\n",
       "  </thead>\n",
       "  <tbody>\n",
       "    <tr>\n",
       "      <th>0</th>\n",
       "      <td>Goldman Sachs</td>\n",
       "      <td>552254</td>\n",
       "      <td>38124</td>\n",
       "      <td>Investment Banking</td>\n",
       "      <td>2015</td>\n",
       "      <td>9</td>\n",
       "    </tr>\n",
       "    <tr>\n",
       "      <th>1</th>\n",
       "      <td>Goldman Sachs</td>\n",
       "      <td>552862</td>\n",
       "      <td>38141</td>\n",
       "      <td>Investment Banking</td>\n",
       "      <td>2015</td>\n",
       "      <td>9</td>\n",
       "    </tr>\n",
       "    <tr>\n",
       "      <th>2</th>\n",
       "      <td>United Technologies</td>\n",
       "      <td>59157</td>\n",
       "      <td>14982</td>\n",
       "      <td>Aviation &amp; Aerospace</td>\n",
       "      <td>2015</td>\n",
       "      <td>9</td>\n",
       "    </tr>\n",
       "    <tr>\n",
       "      <th>3</th>\n",
       "      <td>Novo Nordisk</td>\n",
       "      <td>336175</td>\n",
       "      <td>26448</td>\n",
       "      <td>Pharmaceuticals</td>\n",
       "      <td>2015</td>\n",
       "      <td>9</td>\n",
       "    </tr>\n",
       "    <tr>\n",
       "      <th>4</th>\n",
       "      <td>Lowe's Companies, Inc.</td>\n",
       "      <td>134255</td>\n",
       "      <td>62574</td>\n",
       "      <td>Retail</td>\n",
       "      <td>2015</td>\n",
       "      <td>9</td>\n",
       "    </tr>\n",
       "  </tbody>\n",
       "</table>\n",
       "</div>"
      ],
      "text/plain": [
       "             company_name  followers_count  employees_on_platform  \\\n",
       "0           Goldman Sachs           552254                  38124   \n",
       "1           Goldman Sachs           552862                  38141   \n",
       "2     United Technologies            59157                  14982   \n",
       "3            Novo Nordisk           336175                  26448   \n",
       "4  Lowe's Companies, Inc.           134255                  62574   \n",
       "\n",
       "               industry  year  month  \n",
       "0    Investment Banking  2015      9  \n",
       "1    Investment Banking  2015      9  \n",
       "2  Aviation & Aerospace  2015      9  \n",
       "3       Pharmaceuticals  2015      9  \n",
       "4                Retail  2015      9  "
      ]
     },
     "execution_count": 81,
     "metadata": {},
     "output_type": "execute_result"
    }
   ],
   "source": [
    "# # df['industry'].unique()\n",
    "# # !mkdir images\n",
    "# fig = ax.get_figure()\n",
    "# fig.savefig('./images/in_demand_industries.png')\n",
    "df.head()"
   ]
  },
  {
   "cell_type": "code",
   "execution_count": 89,
   "metadata": {},
   "outputs": [
    {
     "data": {
      "text/html": [
       "<div>\n",
       "<style scoped>\n",
       "    .dataframe tbody tr th:only-of-type {\n",
       "        vertical-align: middle;\n",
       "    }\n",
       "\n",
       "    .dataframe tbody tr th {\n",
       "        vertical-align: top;\n",
       "    }\n",
       "\n",
       "    .dataframe thead th {\n",
       "        text-align: right;\n",
       "    }\n",
       "</style>\n",
       "<table border=\"1\" class=\"dataframe\">\n",
       "  <thead>\n",
       "    <tr style=\"text-align: right;\">\n",
       "      <th></th>\n",
       "      <th>company_name</th>\n",
       "      <th>followers_count</th>\n",
       "      <th>employees_on_platform</th>\n",
       "      <th>industry</th>\n",
       "      <th>year</th>\n",
       "      <th>month</th>\n",
       "    </tr>\n",
       "  </thead>\n",
       "  <tbody>\n",
       "  </tbody>\n",
       "</table>\n",
       "</div>"
      ],
      "text/plain": [
       "Empty DataFrame\n",
       "Columns: [company_name, followers_count, employees_on_platform, industry, year, month]\n",
       "Index: []"
      ]
     },
     "execution_count": 89,
     "metadata": {},
     "output_type": "execute_result"
    }
   ],
   "source": [
    "df[df.isnull().any(axis=1)]\n",
    "df['industry'].fillna('Unknown', inplace=True)\n",
    "df[df.isnull().any(axis=1)]"
   ]
  },
  {
   "cell_type": "code",
   "execution_count": 128,
   "metadata": {},
   "outputs": [
    {
     "data": {
      "text/html": [
       "<div>\n",
       "<style scoped>\n",
       "    .dataframe tbody tr th:only-of-type {\n",
       "        vertical-align: middle;\n",
       "    }\n",
       "\n",
       "    .dataframe tbody tr th {\n",
       "        vertical-align: top;\n",
       "    }\n",
       "\n",
       "    .dataframe thead th {\n",
       "        text-align: right;\n",
       "    }\n",
       "</style>\n",
       "<table border=\"1\" class=\"dataframe\">\n",
       "  <thead>\n",
       "    <tr style=\"text-align: right;\">\n",
       "      <th></th>\n",
       "      <th></th>\n",
       "      <th>count</th>\n",
       "    </tr>\n",
       "    <tr>\n",
       "      <th>industry</th>\n",
       "      <th>year</th>\n",
       "      <th></th>\n",
       "    </tr>\n",
       "  </thead>\n",
       "  <tbody>\n",
       "    <tr>\n",
       "      <th rowspan=\"3\" valign=\"top\">Accounting</th>\n",
       "      <th>2016</th>\n",
       "      <td>248</td>\n",
       "    </tr>\n",
       "    <tr>\n",
       "      <th>2017</th>\n",
       "      <td>1003</td>\n",
       "    </tr>\n",
       "    <tr>\n",
       "      <th>2018</th>\n",
       "      <td>302</td>\n",
       "    </tr>\n",
       "    <tr>\n",
       "      <th rowspan=\"2\" valign=\"top\">Airlines/Aviation</th>\n",
       "      <th>2015</th>\n",
       "      <td>881</td>\n",
       "    </tr>\n",
       "    <tr>\n",
       "      <th>2016</th>\n",
       "      <td>3636</td>\n",
       "    </tr>\n",
       "  </tbody>\n",
       "</table>\n",
       "</div>"
      ],
      "text/plain": [
       "                        count\n",
       "industry          year       \n",
       "Accounting        2016    248\n",
       "                  2017   1003\n",
       "                  2018    302\n",
       "Airlines/Aviation 2015    881\n",
       "                  2016   3636"
      ]
     },
     "execution_count": 128,
     "metadata": {},
     "output_type": "execute_result"
    }
   ],
   "source": [
    "#group by industry and by years\n",
    "grouped_indust_years = df.groupby(['industry','year']).count().drop(columns=['followers_count','employees_on_platform','company_name'])\n",
    "grouped_indust_years.rename(columns = {'month':'count'}, inplace = True)\n",
    "# grouped_indust_years.reset_index(inplace=True)\n",
    "grouped_indust_years.head()\n"
   ]
  },
  {
   "cell_type": "code",
   "execution_count": 133,
   "metadata": {},
   "outputs": [],
   "source": [
    "top3_ordered_group = grouped_indust_years.reindex( ['Banking','Biotechnology','Financial Services'], level = 'industry')"
   ]
  },
  {
   "cell_type": "code",
   "execution_count": 127,
   "metadata": {},
   "outputs": [
    {
     "name": "stdout",
     "output_type": "stream",
     "text": [
      "   industry  year  count\n",
      "23  Banking  2015   1305\n",
      "24  Banking  2016  14301\n",
      "25  Banking  2017  97591\n",
      "26  Banking  2018  55167\n",
      "Index(['industry', 'year', 'count'], dtype='object')\n"
     ]
    }
   ],
   "source": [
    "print (grouped_indust_years[grouped_indust_years['industry']=='Banking'])\n",
    "print (grouped_indust_years.keys())"
   ]
  },
  {
   "cell_type": "code",
   "execution_count": 136,
   "metadata": {},
   "outputs": [],
   "source": [
    "top3_ordered_group.reset_index(inplace=True)\n"
   ]
  },
  {
   "cell_type": "code",
   "execution_count": 143,
   "metadata": {},
   "outputs": [],
   "source": [
    "top3 = ['Banking','Biotechnology','Financial Services']"
   ]
  },
  {
   "cell_type": "code",
   "execution_count": 166,
   "metadata": {},
   "outputs": [
    {
     "name": "stdout",
     "output_type": "stream",
     "text": [
      "[['Banking' 2015 1305]\n",
      " ['Banking' 2016 14301]\n",
      " ['Banking' 2017 97591]\n",
      " ['Banking' 2018 55167]]\n",
      "[['Biotechnology' 2015 1989]\n",
      " ['Biotechnology' 2016 11117]\n",
      " ['Biotechnology' 2017 83713]\n",
      " ['Biotechnology' 2018 55891]]\n",
      "[['Financial Services' 2015 5402]\n",
      " ['Financial Services' 2016 23418]\n",
      " ['Financial Services' 2017 76241]\n",
      " ['Financial Services' 2018 43082]]\n"
     ]
    }
   ],
   "source": [
    "top3_arr = np.array(top3_ordered_group)\n",
    "banking = np.array(top3_arr[0:4])\n",
    "biotech = np.array(top3_arr[4:8])\n",
    "finance = np.array(top3_arr[8:])\n",
    "print (banking)\n",
    "print (biotech)\n",
    "print (finance)"
   ]
  },
  {
   "cell_type": "code",
   "execution_count": 169,
   "metadata": {},
   "outputs": [],
   "source": [
    "banking = banking[:,1:]\n",
    "biotech = biotech[:,1:]\n",
    "finance = finance[:,1:]"
   ]
  },
  {
   "cell_type": "code",
   "execution_count": 170,
   "metadata": {},
   "outputs": [
    {
     "name": "stdout",
     "output_type": "stream",
     "text": [
      "[[2015 1305]\n",
      " [2016 14301]\n",
      " [2017 97591]\n",
      " [2018 55167]]\n",
      "[[2015 1989]\n",
      " [2016 11117]\n",
      " [2017 83713]\n",
      " [2018 55891]]\n",
      "[[2015 5402]\n",
      " [2016 23418]\n",
      " [2017 76241]\n",
      " [2018 43082]]\n"
     ]
    }
   ],
   "source": [
    "print (banking)\n",
    "print (biotech)\n",
    "print (finance)"
   ]
  },
  {
   "cell_type": "code",
   "execution_count": 175,
   "metadata": {},
   "outputs": [],
   "source": [
    "# import matplotlib.pyplot as plt\n",
    "# plt.plot(banking[:,0], banking[:,1])"
   ]
  },
  {
   "cell_type": "code",
   "execution_count": 177,
   "metadata": {},
   "outputs": [],
   "source": [
    "# sns.lineplot( top3_ordered_group)"
   ]
  },
  {
   "cell_type": "code",
   "execution_count": 176,
   "metadata": {},
   "outputs": [],
   "source": [
    "# top3 = ['Banking','Biotechnology','Financial Services']\n",
    "# # filtered_df = grouped_indust_years.where(df['industry']==top3)\n",
    "# filtere_df.head()"
   ]
  },
  {
   "cell_type": "code",
   "execution_count": 179,
   "metadata": {},
   "outputs": [
    {
     "data": {
      "text/html": [
       "<div>\n",
       "<style scoped>\n",
       "    .dataframe tbody tr th:only-of-type {\n",
       "        vertical-align: middle;\n",
       "    }\n",
       "\n",
       "    .dataframe tbody tr th {\n",
       "        vertical-align: top;\n",
       "    }\n",
       "\n",
       "    .dataframe thead th {\n",
       "        text-align: right;\n",
       "    }\n",
       "</style>\n",
       "<table border=\"1\" class=\"dataframe\">\n",
       "  <thead>\n",
       "    <tr style=\"text-align: right;\">\n",
       "      <th></th>\n",
       "      <th></th>\n",
       "      <th>Count</th>\n",
       "    </tr>\n",
       "    <tr>\n",
       "      <th>month</th>\n",
       "      <th>year</th>\n",
       "      <th></th>\n",
       "    </tr>\n",
       "  </thead>\n",
       "  <tbody>\n",
       "    <tr>\n",
       "      <th rowspan=\"3\" valign=\"top\">1</th>\n",
       "      <th>2016</th>\n",
       "      <td>18675</td>\n",
       "    </tr>\n",
       "    <tr>\n",
       "      <th>2017</th>\n",
       "      <td>98199</td>\n",
       "    </tr>\n",
       "    <tr>\n",
       "      <th>2018</th>\n",
       "      <td>122000</td>\n",
       "    </tr>\n",
       "    <tr>\n",
       "      <th rowspan=\"3\" valign=\"top\">2</th>\n",
       "      <th>2016</th>\n",
       "      <td>17187</td>\n",
       "    </tr>\n",
       "    <tr>\n",
       "      <th>2017</th>\n",
       "      <td>90044</td>\n",
       "    </tr>\n",
       "    <tr>\n",
       "      <th>2018</th>\n",
       "      <td>102899</td>\n",
       "    </tr>\n",
       "    <tr>\n",
       "      <th rowspan=\"3\" valign=\"top\">3</th>\n",
       "      <th>2016</th>\n",
       "      <td>19349</td>\n",
       "    </tr>\n",
       "    <tr>\n",
       "      <th>2017</th>\n",
       "      <td>93718</td>\n",
       "    </tr>\n",
       "    <tr>\n",
       "      <th>2018</th>\n",
       "      <td>114345</td>\n",
       "    </tr>\n",
       "    <tr>\n",
       "      <th rowspan=\"3\" valign=\"top\">4</th>\n",
       "      <th>2016</th>\n",
       "      <td>20388</td>\n",
       "    </tr>\n",
       "    <tr>\n",
       "      <th>2017</th>\n",
       "      <td>94566</td>\n",
       "    </tr>\n",
       "    <tr>\n",
       "      <th>2018</th>\n",
       "      <td>110835</td>\n",
       "    </tr>\n",
       "    <tr>\n",
       "      <th rowspan=\"3\" valign=\"top\">5</th>\n",
       "      <th>2016</th>\n",
       "      <td>21552</td>\n",
       "    </tr>\n",
       "    <tr>\n",
       "      <th>2017</th>\n",
       "      <td>99024</td>\n",
       "    </tr>\n",
       "    <tr>\n",
       "      <th>2018</th>\n",
       "      <td>114895</td>\n",
       "    </tr>\n",
       "    <tr>\n",
       "      <th rowspan=\"3\" valign=\"top\">6</th>\n",
       "      <th>2016</th>\n",
       "      <td>20129</td>\n",
       "    </tr>\n",
       "    <tr>\n",
       "      <th>2017</th>\n",
       "      <td>100648</td>\n",
       "    </tr>\n",
       "    <tr>\n",
       "      <th>2018</th>\n",
       "      <td>109797</td>\n",
       "    </tr>\n",
       "    <tr>\n",
       "      <th rowspan=\"3\" valign=\"top\">7</th>\n",
       "      <th>2016</th>\n",
       "      <td>22069</td>\n",
       "    </tr>\n",
       "    <tr>\n",
       "      <th>2017</th>\n",
       "      <td>109782</td>\n",
       "    </tr>\n",
       "    <tr>\n",
       "      <th>2018</th>\n",
       "      <td>63651</td>\n",
       "    </tr>\n",
       "    <tr>\n",
       "      <th rowspan=\"2\" valign=\"top\">8</th>\n",
       "      <th>2016</th>\n",
       "      <td>22815</td>\n",
       "    </tr>\n",
       "    <tr>\n",
       "      <th>2017</th>\n",
       "      <td>112113</td>\n",
       "    </tr>\n",
       "    <tr>\n",
       "      <th rowspan=\"3\" valign=\"top\">9</th>\n",
       "      <th>2015</th>\n",
       "      <td>6884</td>\n",
       "    </tr>\n",
       "    <tr>\n",
       "      <th>2016</th>\n",
       "      <td>39291</td>\n",
       "    </tr>\n",
       "    <tr>\n",
       "      <th>2017</th>\n",
       "      <td>104907</td>\n",
       "    </tr>\n",
       "    <tr>\n",
       "      <th rowspan=\"3\" valign=\"top\">10</th>\n",
       "      <th>2015</th>\n",
       "      <td>16263</td>\n",
       "    </tr>\n",
       "    <tr>\n",
       "      <th>2016</th>\n",
       "      <td>45217</td>\n",
       "    </tr>\n",
       "    <tr>\n",
       "      <th>2017</th>\n",
       "      <td>112279</td>\n",
       "    </tr>\n",
       "    <tr>\n",
       "      <th rowspan=\"3\" valign=\"top\">11</th>\n",
       "      <th>2015</th>\n",
       "      <td>17019</td>\n",
       "    </tr>\n",
       "    <tr>\n",
       "      <th>2016</th>\n",
       "      <td>48123</td>\n",
       "    </tr>\n",
       "    <tr>\n",
       "      <th>2017</th>\n",
       "      <td>118521</td>\n",
       "    </tr>\n",
       "    <tr>\n",
       "      <th rowspan=\"3\" valign=\"top\">12</th>\n",
       "      <th>2015</th>\n",
       "      <td>17620</td>\n",
       "    </tr>\n",
       "    <tr>\n",
       "      <th>2016</th>\n",
       "      <td>65838</td>\n",
       "    </tr>\n",
       "    <tr>\n",
       "      <th>2017</th>\n",
       "      <td>135554</td>\n",
       "    </tr>\n",
       "  </tbody>\n",
       "</table>\n",
       "</div>"
      ],
      "text/plain": [
       "             Count\n",
       "month year        \n",
       "1     2016   18675\n",
       "      2017   98199\n",
       "      2018  122000\n",
       "2     2016   17187\n",
       "      2017   90044\n",
       "      2018  102899\n",
       "3     2016   19349\n",
       "      2017   93718\n",
       "      2018  114345\n",
       "4     2016   20388\n",
       "      2017   94566\n",
       "      2018  110835\n",
       "5     2016   21552\n",
       "      2017   99024\n",
       "      2018  114895\n",
       "6     2016   20129\n",
       "      2017  100648\n",
       "      2018  109797\n",
       "7     2016   22069\n",
       "      2017  109782\n",
       "      2018   63651\n",
       "8     2016   22815\n",
       "      2017  112113\n",
       "9     2015    6884\n",
       "      2016   39291\n",
       "      2017  104907\n",
       "10    2015   16263\n",
       "      2016   45217\n",
       "      2017  112279\n",
       "11    2015   17019\n",
       "      2016   48123\n",
       "      2017  118521\n",
       "12    2015   17620\n",
       "      2016   65838\n",
       "      2017  135554"
      ]
     },
     "execution_count": 179,
     "metadata": {},
     "output_type": "execute_result"
    }
   ],
   "source": [
    "# grouped_by_month =\n",
    "grouped_by_month = df.groupby(['month','year']).count().drop(columns=['followers_count','employees_on_platform','industry'])\n",
    "grouped_by_month.rename(columns = {'company_name':'Count'}, inplace = True)\n",
    "# grouped_by_month.reset_index(inplace=True)\n",
    "# grouped_by_month.rename(columns = {'company_name':'Count'}, inplace = True)\n",
    "grouped_by_month"
   ]
  },
  {
   "cell_type": "code",
   "execution_count": null,
   "metadata": {},
   "outputs": [],
   "source": [
    "sns.plot()"
   ]
  },
  {
   "cell_type": "code",
   "execution_count": 68,
   "metadata": {},
   "outputs": [
    {
     "data": {
      "text/html": [
       "<div>\n",
       "<style scoped>\n",
       "    .dataframe tbody tr th:only-of-type {\n",
       "        vertical-align: middle;\n",
       "    }\n",
       "\n",
       "    .dataframe tbody tr th {\n",
       "        vertical-align: top;\n",
       "    }\n",
       "\n",
       "    .dataframe thead th {\n",
       "        text-align: right;\n",
       "    }\n",
       "</style>\n",
       "<table border=\"1\" class=\"dataframe\">\n",
       "  <thead>\n",
       "    <tr style=\"text-align: right;\">\n",
       "      <th></th>\n",
       "      <th>Count</th>\n",
       "    </tr>\n",
       "  </thead>\n",
       "  <tbody>\n",
       "    <tr>\n",
       "      <th>count</th>\n",
       "      <td>35.000000</td>\n",
       "    </tr>\n",
       "    <tr>\n",
       "      <th>mean</th>\n",
       "      <td>69319.885714</td>\n",
       "    </tr>\n",
       "    <tr>\n",
       "      <th>std</th>\n",
       "      <td>42869.774036</td>\n",
       "    </tr>\n",
       "    <tr>\n",
       "      <th>min</th>\n",
       "      <td>6884.000000</td>\n",
       "    </tr>\n",
       "    <tr>\n",
       "      <th>25%</th>\n",
       "      <td>20970.000000</td>\n",
       "    </tr>\n",
       "    <tr>\n",
       "      <th>50%</th>\n",
       "      <td>90044.000000</td>\n",
       "    </tr>\n",
       "    <tr>\n",
       "      <th>75%</th>\n",
       "      <td>109789.500000</td>\n",
       "    </tr>\n",
       "    <tr>\n",
       "      <th>max</th>\n",
       "      <td>135554.000000</td>\n",
       "    </tr>\n",
       "  </tbody>\n",
       "</table>\n",
       "</div>"
      ],
      "text/plain": [
       "               Count\n",
       "count      35.000000\n",
       "mean    69319.885714\n",
       "std     42869.774036\n",
       "min      6884.000000\n",
       "25%     20970.000000\n",
       "50%     90044.000000\n",
       "75%    109789.500000\n",
       "max    135554.000000"
      ]
     },
     "execution_count": 68,
     "metadata": {},
     "output_type": "execute_result"
    }
   ],
   "source": [
    "grouped_by_month.describe()"
   ]
  },
  {
   "cell_type": "code",
   "execution_count": 181,
   "metadata": {},
   "outputs": [
    {
     "name": "stdout",
     "output_type": "stream",
     "text": [
      "             Count\n",
      "month year        \n",
      "1     2016   18675\n",
      "      2017   98199\n",
      "      2018  122000\n",
      "2     2016   17187\n",
      "      2017   90044\n",
      "   month  year   Count\n",
      "0      1  2016   18675\n",
      "1      1  2017   98199\n",
      "2      1  2018  122000\n",
      "3      2  2016   17187\n",
      "4      2  2017   90044\n"
     ]
    }
   ],
   "source": [
    "print (grouped_by_month.head())\n",
    "grouped_by_month.reset_index(inplace=True)\n",
    "print (grouped_by_month.head())"
   ]
  },
  {
   "cell_type": "code",
   "execution_count": null,
   "metadata": {},
   "outputs": [],
   "source": []
  },
  {
   "cell_type": "code",
   "execution_count": 182,
   "metadata": {},
   "outputs": [
    {
     "data": {
      "image/png": "[encoded data removed]",
      "text/plain": [
       "<Figure size 1200x800 with 1 Axes>"
      ]
     },
     "metadata": {
      "needs_background": "light"
     },
     "output_type": "display_data"
    }
   ],
   "source": [
    "ax1 = sns.boxplot(x=grouped_by_month['month'], y = grouped_by_month['Count'])"
   ]
  },
  {
   "cell_type": "markdown",
   "metadata": {},
   "source": [
    "### This initial analysis shoes that January has the highest number of job postings with december having the least. the next step would be to look at the jobs with the highest number of highring and how their job opennings change monthly. It might be also better to look at the quarterly changes instead of monthly changes."
   ]
  },
  {
   "cell_type": "code",
   "execution_count": null,
   "metadata": {},
   "outputs": [],
   "source": []
  },
  {
   "cell_type": "code",
   "execution_count": 184,
   "metadata": {},
   "outputs": [],
   "source": [
    "fig1 = ax1.get_figure()\n",
    "fig1.savefig('./images/monthly_job_opennings.png')"
   ]
  },
  {
   "cell_type": "code",
   "execution_count": 63,
   "metadata": {},
   "outputs": [
    {
     "data": {
      "text/plain": [
       "array([2015, 2016, 2017, 2018])"
      ]
     },
     "execution_count": 63,
     "metadata": {},
     "output_type": "execute_result"
    }
   ],
   "source": [
    "years = df['year'].unique()\n",
    "years"
   ]
  },
  {
   "cell_type": "code",
   "execution_count": null,
   "metadata": {},
   "outputs": [],
   "source": [
    "df_CI = df_can.loc[['China','India'],years].transpose()"
   ]
  },
  {
   "cell_type": "code",
   "execution_count": null,
   "metadata": {},
   "outputs": [],
   "source": [
    "df_months = df.loc[]"
   ]
  },
  {
   "cell_type": "code",
   "execution_count": 185,
   "metadata": {},
   "outputs": [],
   "source": [
    "\n",
    "# ax=df.groupby(['month','year']).plot(kind='box', \n",
    "#                             figsize=(20,8),\n",
    "#                             #color = ['#5cb85c', '#5bc0de',  '#d9534f']\n",
    "#                             )\n",
    "# # ax.set_yscale('log')\n",
    "# # ax.set_ylabel('Total number of jobs in the industry')"
   ]
  }
 ],
 "metadata": {
  "kernelspec": {
   "display_name": "Python 3",
   "language": "python",
   "name": "python3"
  },
  "language_info": {
   "codemirror_mode": {
    "name": "ipython",
    "version": 3
   },
   "file_extension": ".py",
   "mimetype": "text/x-python",
   "name": "python",
   "nbconvert_exporter": "python",
   "pygments_lexer": "ipython3",
   "version": "3.7.7"
  }
 },
 "nbformat": 4,
 "nbformat_minor": 4
}
